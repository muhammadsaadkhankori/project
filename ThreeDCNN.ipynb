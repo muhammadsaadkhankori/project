{
 "cells": [
  {
   "cell_type": "code",
   "execution_count": 3,
   "id": "c7d43075-ae46-400c-a367-0d79753f1cb4",
   "metadata": {},
   "outputs": [],
   "source": [
    "import os\n",
    "import cv2\n",
    "import numpy as np\n",
    "import tensorflow as tf\n",
    "# from CNN_model import create_3d_cnn\n",
    "from tensorflow.keras.optimizers import Adam\n",
    "from tensorflow.keras.regularizers import l2\n",
    "from tensorflow.keras.models import Sequential\n",
    "from tensorflow.keras.utils import to_categorical\n",
    "from sklearn.model_selection import train_test_split\n",
    "from tensorflow.keras.callbacks import LearningRateScheduler, EarlyStopping\n",
    "from tensorflow.keras.layers import Conv3D, MaxPooling3D, Flatten, Dense, Dropout, BatchNormalization"
   ]
  },
  {
   "cell_type": "code",
   "execution_count": 8,
   "id": "90dad81d-7364-4a44-8afe-f7d785931c3b",
   "metadata": {},
   "outputs": [],
   "source": [
    "def extract_frames_from_video(video_path, num_frames=30):\n",
    "    cap = cv2.VideoCapture(video_path)\n",
    "    frames = []\n",
    "    length = int(cap.get(cv2.CAP_PROP_FRAME_COUNT))\n",
    "    frame_interval = max(length // num_frames, 1)\n",
    "\n",
    "    frame_count = 0\n",
    "    saved_count = 0\n",
    "\n",
    "    while cap.isOpened() and saved_count < num_frames:\n",
    "        ret, frame = cap.read()\n",
    "        if not ret:\n",
    "            break\n",
    "        if frame_count % frame_interval == 0:\n",
    "            frame = cv2.resize(frame, (112, 112))  # Ensure the frame is resized to (112, 112)\n",
    "            frames.append(frame)\n",
    "            saved_count += 1\n",
    "        frame_count += 1\n",
    "\n",
    "    cap.release()\n",
    "\n",
    "    while len(frames) < num_frames:\n",
    "        frames.append(frames[-1] if frames else np.zeros((112, 112, 3)))  # Handle empty frames case\n",
    "\n",
    "    return frames\n",
    "\n",
    "def load_videos_and_labels(dataset_dir):\n",
    "    print(\"Loading dataset\")\n",
    "    classes = ['A', 'B']\n",
    "    X = []\n",
    "    y = []\n",
    "\n",
    "    for class_name in classes:\n",
    "        class_path = os.path.join(dataset_dir, class_name)\n",
    "        label = 1 if class_name == 'A' else 0\n",
    "\n",
    "        for video_name in os.listdir(class_path):\n",
    "            video_path = os.path.join(class_path, video_name)\n",
    "            frames = extract_frames_from_video(video_path)\n",
    "            X.append(frames)\n",
    "            y.append(label)\n",
    "\n",
    "    return np.array(X), np.array(y)"
   ]
  },
  {
   "cell_type": "code",
   "execution_count": 9,
   "id": "631eaef6-d109-4aee-97d9-3e02c765fa96",
   "metadata": {},
   "outputs": [
    {
     "name": "stdout",
     "output_type": "stream",
     "text": [
      "Loading dataset\n"
     ]
    }
   ],
   "source": [
    "# Example usage\n",
    "dataset_dir = 'D:/Muhammad_Saad/Ensemble-learning/testing/'\n",
    "Videos, Labels = load_videos_and_labels(dataset_dir)"
   ]
  },
  {
   "cell_type": "code",
   "execution_count": 11,
   "id": "31745269-1f01-4a22-b7d7-4535f68abbc0",
   "metadata": {},
   "outputs": [],
   "source": [
    "train_features, test_features, train_labels, test_labels = train_test_split(Videos, Labels, test_size=0.05, random_state=True)\n",
    "train_labels = to_categorical(train_labels, num_classes=2)"
   ]
  },
  {
   "cell_type": "code",
   "execution_count": 12,
   "id": "c044273c",
   "metadata": {},
   "outputs": [],
   "source": [
    "train_features = train_features/255.0"
   ]
  },
  {
   "cell_type": "code",
   "execution_count": 13,
   "id": "61844c8b",
   "metadata": {},
   "outputs": [],
   "source": [
    "def create_3d_cnn(input_shape):\n",
    "    model = Sequential()\n",
    "\n",
    "    model.add(Conv3D(filters=32, kernel_size=(3, 3, 3), activation='relu', input_shape=input_shape, kernel_regularizer=l2(0.001), padding='same'))\n",
    "    model.add(Conv3D(filters=32, kernel_size=(3, 3, 3), activation='relu', kernel_regularizer=l2(0.001), padding='same'))\n",
    "    model.add(BatchNormalization())\n",
    "\n",
    "    model.add(Conv3D(filters=64, kernel_size=(3, 3, 3), activation='relu', kernel_regularizer=l2(0.001), padding='same'))\n",
    "    model.add(Conv3D(filters=64, kernel_size=(3, 3, 3), activation='relu', kernel_regularizer=l2(0.001), padding='same'))\n",
    "    model.add(MaxPooling3D(pool_size=(2, 2, 2)))\n",
    "    model.add(BatchNormalization())\n",
    "\n",
    "    model.add(Conv3D(filters=128, kernel_size=(3, 3, 3), activation='relu', kernel_regularizer=l2(0.001), padding='same'))\n",
    "    model.add(Conv3D(filters=128, kernel_size=(3, 3, 3), activation='relu', kernel_regularizer=l2(0.001), padding='same'))\n",
    "    model.add(MaxPooling3D(pool_size=(2, 2, 2)))\n",
    "    model.add(Dropout(0.2))\n",
    "    model.add(BatchNormalization())\n",
    "\n",
    "    model.add(Conv3D(filters=256, kernel_size=(3, 3, 3), activation='relu', kernel_regularizer=l2(0.001), padding='same'))\n",
    "    model.add(Conv3D(filters=256, kernel_size=(3, 3, 3), activation='relu', kernel_regularizer=l2(0.001), padding='same'))\n",
    "    model.add(MaxPooling3D(pool_size=(2, 2, 2)))\n",
    "    model.add(Dropout(0.2))\n",
    "    model.add(BatchNormalization())\n",
    "\n",
    "    model.add(Conv3D(filters=512, kernel_size=(3, 3, 3), activation='relu', kernel_regularizer=l2(0.001), padding='same'))\n",
    "    model.add(Conv3D(filters=512, kernel_size=(3, 3, 3), activation='relu', kernel_regularizer=l2(0.001), padding='same'))\n",
    "    model.add(MaxPooling3D(pool_size=(2, 2, 2)))\n",
    "    model.add(Dropout(0.2))\n",
    "    # model.add(BatchNormalization())\n",
    "\n",
    "    model.add(Flatten())\n",
    "\n",
    "    model.add(Dense(units=512, activation='relu', kernel_regularizer=l2(0.001)))\n",
    "    model.add(Dense(units=256, activation='relu', kernel_regularizer=l2(0.001)))\n",
    "    model.add(Dropout(0.2))\n",
    "\n",
    "    model.add(Dense(units=2, activation='softmax'))  \n",
    "\n",
    "    return model"
   ]
  },
  {
   "cell_type": "markdown",
   "id": "cce76bf0-035f-48e9-831c-431678ee58a3",
   "metadata": {},
   "source": [
    "# Cluster setup "
   ]
  },
  {
   "cell_type": "code",
   "execution_count": 17,
   "id": "1be4d244-c783-493a-95c6-96cd976efd82",
   "metadata": {},
   "outputs": [],
   "source": [
    "import tensorflow as tf\n",
    "\n",
    "cluster = tf.train.ClusterSpec({\n",
    "    \"worker\": [\n",
    "        \"10.127.94.14:2222\",\n",
    "        \"10.127.94.33:2222\"\n",
    "    ]\n",
    "})"
   ]
  },
  {
   "cell_type": "code",
   "execution_count": 20,
   "id": "597017dc-569e-4f22-9ae7-1e4aaf153c26",
   "metadata": {},
   "outputs": [
    {
     "ename": "SyntaxError",
     "evalue": "unterminated string literal (detected at line 1) (753802657.py, line 1)",
     "output_type": "error",
     "traceback": [
      "\u001b[1;36m  Cell \u001b[1;32mIn[20], line 1\u001b[1;36m\u001b[0m\n\u001b[1;33m    export TF_CONFIG='{\u001b[0m\n\u001b[1;37m                     ^\u001b[0m\n\u001b[1;31mSyntaxError\u001b[0m\u001b[1;31m:\u001b[0m unterminated string literal (detected at line 1)\n"
     ]
    }
   ],
   "source": [
    "$env:TF_CONFIG='{\n",
    "    \"cluster\": {\n",
    "        \"worker\": [\n",
    "            \"primary_machine_ip:2222\",\n",
    "            \"secondary_machine_ip:2222\"\n",
    "        ]\n",
    "    },\n",
    "    \"task\": {\"type\": \"worker\", \"index\": 0}\n",
    "}'"
   ]
  },
  {
   "cell_type": "code",
   "execution_count": null,
   "id": "7571f9ce-d10c-467f-af9e-4671b171037a",
   "metadata": {},
   "outputs": [],
   "source": []
  },
  {
   "cell_type": "code",
   "execution_count": 8,
   "id": "b2d89199",
   "metadata": {},
   "outputs": [],
   "source": [
    "input_shape = (30, 112, 112, 3)\n",
    "optimizer = Adam(learning_rate=0.0001)\n",
    "batchSize = 8\n",
    "epochs = 50 \n",
    "validation_split = 0.2"
   ]
  },
  {
   "cell_type": "code",
   "execution_count": 9,
   "id": "8bebb3ef-9320-46a0-8755-a20ed4de66a3",
   "metadata": {},
   "outputs": [
    {
     "name": "stdout",
     "output_type": "stream",
     "text": [
      "Model: \"sequential\"\n",
      "_________________________________________________________________\n",
      " Layer (type)                Output Shape              Param #   \n",
      "=================================================================\n",
      " conv3d (Conv3D)             (None, 30, 112, 112, 32)  2624      \n",
      "                                                                 \n",
      " conv3d_1 (Conv3D)           (None, 30, 112, 112, 32)  27680     \n",
      "                                                                 \n",
      " batch_normalization (BatchN  (None, 30, 112, 112, 32)  128      \n",
      " ormalization)                                                   \n",
      "                                                                 \n",
      " conv3d_2 (Conv3D)           (None, 30, 112, 112, 64)  55360     \n",
      "                                                                 \n",
      " conv3d_3 (Conv3D)           (None, 30, 112, 112, 64)  110656    \n",
      "                                                                 \n",
      " max_pooling3d (MaxPooling3D  (None, 15, 56, 56, 64)   0         \n",
      " )                                                               \n",
      "                                                                 \n",
      " batch_normalization_1 (Batc  (None, 15, 56, 56, 64)   256       \n",
      " hNormalization)                                                 \n",
      "                                                                 \n",
      " conv3d_4 (Conv3D)           (None, 15, 56, 56, 128)   221312    \n",
      "                                                                 \n",
      " conv3d_5 (Conv3D)           (None, 15, 56, 56, 128)   442496    \n",
      "                                                                 \n",
      " max_pooling3d_1 (MaxPooling  (None, 7, 28, 28, 128)   0         \n",
      " 3D)                                                             \n",
      "                                                                 \n",
      " dropout (Dropout)           (None, 7, 28, 28, 128)    0         \n",
      "                                                                 \n",
      " batch_normalization_2 (Batc  (None, 7, 28, 28, 128)   512       \n",
      " hNormalization)                                                 \n",
      "                                                                 \n",
      " conv3d_6 (Conv3D)           (None, 7, 28, 28, 256)    884992    \n",
      "                                                                 \n",
      " conv3d_7 (Conv3D)           (None, 7, 28, 28, 256)    1769728   \n",
      "                                                                 \n",
      " max_pooling3d_2 (MaxPooling  (None, 3, 14, 14, 256)   0         \n",
      " 3D)                                                             \n",
      "                                                                 \n",
      " dropout_1 (Dropout)         (None, 3, 14, 14, 256)    0         \n",
      "                                                                 \n",
      " batch_normalization_3 (Batc  (None, 3, 14, 14, 256)   1024      \n",
      " hNormalization)                                                 \n",
      "                                                                 \n",
      " conv3d_8 (Conv3D)           (None, 3, 14, 14, 512)    3539456   \n",
      "                                                                 \n",
      " conv3d_9 (Conv3D)           (None, 3, 14, 14, 512)    7078400   \n",
      "                                                                 \n",
      " max_pooling3d_3 (MaxPooling  (None, 1, 7, 7, 512)     0         \n",
      " 3D)                                                             \n",
      "                                                                 \n",
      " dropout_2 (Dropout)         (None, 1, 7, 7, 512)      0         \n",
      "                                                                 \n",
      " flatten (Flatten)           (None, 25088)             0         \n",
      "                                                                 \n",
      " dense (Dense)               (None, 512)               12845568  \n",
      "                                                                 \n",
      " dense_1 (Dense)             (None, 256)               131328    \n",
      "                                                                 \n",
      " dropout_3 (Dropout)         (None, 256)               0         \n",
      "                                                                 \n",
      " dense_2 (Dense)             (None, 2)                 514       \n",
      "                                                                 \n",
      "=================================================================\n",
      "Total params: 27,112,034\n",
      "Trainable params: 27,111,074\n",
      "Non-trainable params: 960\n",
      "_________________________________________________________________\n"
     ]
    }
   ],
   "source": [
    "\n",
    "model = create_3d_cnn(input_shape)\n",
    "model.compile(optimizer=optimizer, loss='binary_crossentropy', metrics=['accuracy']) \n",
    "model.summary()"
   ]
  },
  {
   "cell_type": "code",
   "execution_count": null,
   "id": "06078f7b-befc-48d1-b7ef-9d80d82a3e4e",
   "metadata": {},
   "outputs": [
    {
     "name": "stdout",
     "output_type": "stream",
     "text": [
      "Epoch 1/50\n",
      "186/186 [==============================] - 105s 534ms/step - loss: 3.3627 - accuracy: 0.7305 - val_loss: 3.7575 - val_accuracy: 0.5174 - lr: 1.0000e-04\n",
      "Epoch 2/50\n",
      "186/186 [==============================] - 99s 531ms/step - loss: 2.8957 - accuracy: 0.8017 - val_loss: 3.2510 - val_accuracy: 0.5174 - lr: 1.0000e-04\n",
      "Epoch 3/50\n",
      "186/186 [==============================] - 100s 535ms/step - loss: 2.5688 - accuracy: 0.8165 - val_loss: 2.6712 - val_accuracy: 0.5174 - lr: 1.0000e-04\n",
      "Epoch 4/50\n",
      " 98/186 [==============>...............] - ETA: 43s - loss: 2.3358 - accuracy: 0.8380"
     ]
    }
   ],
   "source": [
    "history = model.fit(train_features, train_labels,\n",
    "                    epochs=epochs,\n",
    "                    batch_size=batchSize,\n",
    "                    validation_split=validation_split)"
   ]
  },
  {
   "cell_type": "code",
   "execution_count": null,
   "id": "aecef615-1f2e-4a88-b2cd-082e8542bc5a",
   "metadata": {},
   "outputs": [
    {
     "ename": "NameError",
     "evalue": "name 'history' is not defined",
     "output_type": "error",
     "traceback": [
      "\u001b[1;31m---------------------------------------------------------------------------\u001b[0m",
      "\u001b[1;31mNameError\u001b[0m                                 Traceback (most recent call last)",
      "Cell \u001b[1;32mIn[18], line 5\u001b[0m\n\u001b[0;32m      3\u001b[0m plt\u001b[38;5;241m.\u001b[39mfigure(figsize\u001b[38;5;241m=\u001b[39m(\u001b[38;5;241m12\u001b[39m, \u001b[38;5;241m4\u001b[39m))\n\u001b[0;32m      4\u001b[0m plt\u001b[38;5;241m.\u001b[39msubplot(\u001b[38;5;241m121\u001b[39m)\n\u001b[1;32m----> 5\u001b[0m plt\u001b[38;5;241m.\u001b[39mplot(\u001b[43mhistory\u001b[49m\u001b[38;5;241m.\u001b[39mhistory[\u001b[38;5;124m'\u001b[39m\u001b[38;5;124maccuracy\u001b[39m\u001b[38;5;124m'\u001b[39m], label\u001b[38;5;241m=\u001b[39m\u001b[38;5;124m'\u001b[39m\u001b[38;5;124mTrain Accuracy\u001b[39m\u001b[38;5;124m'\u001b[39m)\n\u001b[0;32m      6\u001b[0m plt\u001b[38;5;241m.\u001b[39mplot(history\u001b[38;5;241m.\u001b[39mhistory[\u001b[38;5;124m'\u001b[39m\u001b[38;5;124mval_accuracy\u001b[39m\u001b[38;5;124m'\u001b[39m], label\u001b[38;5;241m=\u001b[39m\u001b[38;5;124m'\u001b[39m\u001b[38;5;124mValidation Accuracy\u001b[39m\u001b[38;5;124m'\u001b[39m)\n\u001b[0;32m      7\u001b[0m plt\u001b[38;5;241m.\u001b[39mtitle(\u001b[38;5;124m'\u001b[39m\u001b[38;5;124mModel Accuracy\u001b[39m\u001b[38;5;124m'\u001b[39m)\n",
      "\u001b[1;31mNameError\u001b[0m: name 'history' is not defined"
     ]
    },
    {
     "data": {
      "image/png": "[encoded data removed]",
      "text/plain": [
       "<Figure size 1200x400 with 1 Axes>"
      ]
     },
     "metadata": {},
     "output_type": "display_data"
    }
   ],
   "source": [
    "import matplotlib.pyplot as plt\n",
    "\n",
    "plt.figure(figsize=(12, 4))\n",
    "plt.subplot(121)\n",
    "plt.plot(history.history['accuracy'], label='Train Accuracy')\n",
    "plt.plot(history.history['val_accuracy'], label='Validation Accuracy')\n",
    "plt.title('Model Accuracy')\n",
    "plt.xlabel('Epoch')\n",
    "plt.ylabel('Accuracy')\n",
    "plt.legend()\n",
    "\n",
    "plt.subplot(122)\n",
    "plt.plot(history.history['loss'], label='Train Loss')\n",
    "plt.plot(history.history['val_loss'], label='Validation Loss')\n",
    "plt.title('Model Loss')\n",
    "plt.xlabel('Epoch')\n",
    "plt.ylabel('Loss')\n",
    "plt.legend()\n",
    "\n",
    "plt.tight_layout()\n",
    "plt.show()"
   ]
  },
  {
   "cell_type": "code",
   "execution_count": null,
   "id": "d6d51cbd-c04c-4fb3-b766-b622104b1b04",
   "metadata": {},
   "outputs": [],
   "source": [
    "model.save(\"CNN.ipynb\")"
   ]
  },
  {
   "cell_type": "code",
   "execution_count": null,
   "id": "7bd278e0-9dfa-48d5-8e63-990f45f6c84b",
   "metadata": {},
   "outputs": [],
   "source": []
  }
 ],
 "metadata": {
  "kernelspec": {
   "display_name": "Python 3 (ipykernel)",
   "language": "python",
   "name": "python3"
  },
  "language_info": {
   "codemirror_mode": {
    "name": "ipython",
    "version": 3
   },
   "file_extension": ".py",
   "mimetype": "text/x-python",
   "name": "python",
   "nbconvert_exporter": "python",
   "pygments_lexer": "ipython3",
   "version": "3.10.14"
  }
 },
 "nbformat": 4,
 "nbformat_minor": 5
}
